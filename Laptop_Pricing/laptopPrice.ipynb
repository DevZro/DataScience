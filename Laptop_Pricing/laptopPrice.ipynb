{
 "cells": [
  {
   "cell_type": "code",
   "execution_count": 1,
   "id": "6052ca2d-d401-4d3b-861c-4865285e48e9",
   "metadata": {},
   "outputs": [],
   "source": [
    "import numpy as np\n",
    "import pandas as pd\n",
    "import matplotlib.pyplot as plt"
   ]
  },
  {
   "cell_type": "code",
   "execution_count": 2,
   "id": "7c0d7f2c-e234-4e0f-bd48-e3ed2f612df9",
   "metadata": {},
   "outputs": [],
   "source": [
    "%matplotlib inline"
   ]
  },
  {
   "cell_type": "code",
   "execution_count": 3,
   "id": "024c8873-d8f3-4481-b264-55cb586fbeec",
   "metadata": {},
   "outputs": [],
   "source": [
    "# import sklearn tools\n",
    "from sklearn.preprocessing import StandardScaler, MinMaxScaler, RobustScaler, OneHotEncoder\n",
    "from sklearn.compose import ColumnTransformer\n",
    "from sklearn.pipeline import Pipeline\n",
    "from sklearn.model_selection import train_test_split\n",
    "from sklearn.metrics import mean_absolute_error, mean_squared_error, r2_score"
   ]
  },
  {
   "cell_type": "code",
   "execution_count": 4,
   "id": "4179ad43-ae61-48bb-9e81-c87200371409",
   "metadata": {},
   "outputs": [],
   "source": [
    "from sklearn.model_selection import GridSearchCV"
   ]
  },
  {
   "cell_type": "code",
   "execution_count": 5,
   "id": "308ab5c7-ca87-4b2a-99c1-ef6319fe4d15",
   "metadata": {},
   "outputs": [],
   "source": [
    "# import sklearn models\n",
    "from sklearn.linear_model import LinearRegression, Lasso, Ridge\n",
    "from sklearn.svm import SVR\n",
    "from sklearn.neighbors import KNeighborsRegressor\n",
    "from sklearn.ensemble import RandomForestRegressor, BaggingRegressor, ExtraTreesRegressor\n",
    "from sklearn.tree import DecisionTreeRegressor\n",
    "from sklearn.linear_model import ElasticNet\n",
    "from sklearn.ensemble import AdaBoostRegressor\n",
    "from sklearn.ensemble import GradientBoostingRegressor"
   ]
  },
  {
   "cell_type": "markdown",
   "id": "624cbd9a-4108-4596-a5b4-60fe67be70ba",
   "metadata": {},
   "source": [
    "# Understanding the Data"
   ]
  },
  {
   "cell_type": "code",
   "execution_count": 6,
   "id": "a7de35c7-cc5b-40c6-bd6e-e6dcafd5b581",
   "metadata": {},
   "outputs": [],
   "source": [
    "df = pd.read_csv(\"laptopPrice.csv\")"
   ]
  },
  {
   "cell_type": "code",
   "execution_count": 7,
   "id": "5a1d330b-31a4-474d-a3c2-31793927322e",
   "metadata": {},
   "outputs": [
    {
     "data": {
      "text/html": [
       "<div>\n",
       "<style scoped>\n",
       "    .dataframe tbody tr th:only-of-type {\n",
       "        vertical-align: middle;\n",
       "    }\n",
       "\n",
       "    .dataframe tbody tr th {\n",
       "        vertical-align: top;\n",
       "    }\n",
       "\n",
       "    .dataframe thead th {\n",
       "        text-align: right;\n",
       "    }\n",
       "</style>\n",
       "<table border=\"1\" class=\"dataframe\">\n",
       "  <thead>\n",
       "    <tr style=\"text-align: right;\">\n",
       "      <th></th>\n",
       "      <th>brand</th>\n",
       "      <th>processor_brand</th>\n",
       "      <th>processor_name</th>\n",
       "      <th>processor_gnrtn</th>\n",
       "      <th>ram_gb</th>\n",
       "      <th>ram_type</th>\n",
       "      <th>ssd</th>\n",
       "      <th>hdd</th>\n",
       "      <th>os</th>\n",
       "      <th>os_bit</th>\n",
       "      <th>graphic_card_gb</th>\n",
       "      <th>weight</th>\n",
       "      <th>warranty</th>\n",
       "      <th>Touchscreen</th>\n",
       "      <th>msoffice</th>\n",
       "      <th>Price</th>\n",
       "      <th>rating</th>\n",
       "      <th>Number of Ratings</th>\n",
       "      <th>Number of Reviews</th>\n",
       "    </tr>\n",
       "  </thead>\n",
       "  <tbody>\n",
       "    <tr>\n",
       "      <th>0</th>\n",
       "      <td>ASUS</td>\n",
       "      <td>Intel</td>\n",
       "      <td>Core i3</td>\n",
       "      <td>10th</td>\n",
       "      <td>4 GB</td>\n",
       "      <td>DDR4</td>\n",
       "      <td>0 GB</td>\n",
       "      <td>1024 GB</td>\n",
       "      <td>Windows</td>\n",
       "      <td>64-bit</td>\n",
       "      <td>0 GB</td>\n",
       "      <td>Casual</td>\n",
       "      <td>No warranty</td>\n",
       "      <td>No</td>\n",
       "      <td>No</td>\n",
       "      <td>34649</td>\n",
       "      <td>2 stars</td>\n",
       "      <td>3</td>\n",
       "      <td>0</td>\n",
       "    </tr>\n",
       "    <tr>\n",
       "      <th>1</th>\n",
       "      <td>Lenovo</td>\n",
       "      <td>Intel</td>\n",
       "      <td>Core i3</td>\n",
       "      <td>10th</td>\n",
       "      <td>4 GB</td>\n",
       "      <td>DDR4</td>\n",
       "      <td>0 GB</td>\n",
       "      <td>1024 GB</td>\n",
       "      <td>Windows</td>\n",
       "      <td>64-bit</td>\n",
       "      <td>0 GB</td>\n",
       "      <td>Casual</td>\n",
       "      <td>No warranty</td>\n",
       "      <td>No</td>\n",
       "      <td>No</td>\n",
       "      <td>38999</td>\n",
       "      <td>3 stars</td>\n",
       "      <td>65</td>\n",
       "      <td>5</td>\n",
       "    </tr>\n",
       "    <tr>\n",
       "      <th>2</th>\n",
       "      <td>Lenovo</td>\n",
       "      <td>Intel</td>\n",
       "      <td>Core i3</td>\n",
       "      <td>10th</td>\n",
       "      <td>4 GB</td>\n",
       "      <td>DDR4</td>\n",
       "      <td>0 GB</td>\n",
       "      <td>1024 GB</td>\n",
       "      <td>Windows</td>\n",
       "      <td>64-bit</td>\n",
       "      <td>0 GB</td>\n",
       "      <td>Casual</td>\n",
       "      <td>No warranty</td>\n",
       "      <td>No</td>\n",
       "      <td>No</td>\n",
       "      <td>39999</td>\n",
       "      <td>3 stars</td>\n",
       "      <td>8</td>\n",
       "      <td>1</td>\n",
       "    </tr>\n",
       "    <tr>\n",
       "      <th>3</th>\n",
       "      <td>ASUS</td>\n",
       "      <td>Intel</td>\n",
       "      <td>Core i5</td>\n",
       "      <td>10th</td>\n",
       "      <td>8 GB</td>\n",
       "      <td>DDR4</td>\n",
       "      <td>512 GB</td>\n",
       "      <td>0 GB</td>\n",
       "      <td>Windows</td>\n",
       "      <td>32-bit</td>\n",
       "      <td>2 GB</td>\n",
       "      <td>Casual</td>\n",
       "      <td>No warranty</td>\n",
       "      <td>No</td>\n",
       "      <td>No</td>\n",
       "      <td>69990</td>\n",
       "      <td>3 stars</td>\n",
       "      <td>0</td>\n",
       "      <td>0</td>\n",
       "    </tr>\n",
       "    <tr>\n",
       "      <th>4</th>\n",
       "      <td>ASUS</td>\n",
       "      <td>Intel</td>\n",
       "      <td>Celeron Dual</td>\n",
       "      <td>Not Available</td>\n",
       "      <td>4 GB</td>\n",
       "      <td>DDR4</td>\n",
       "      <td>0 GB</td>\n",
       "      <td>512 GB</td>\n",
       "      <td>Windows</td>\n",
       "      <td>64-bit</td>\n",
       "      <td>0 GB</td>\n",
       "      <td>Casual</td>\n",
       "      <td>No warranty</td>\n",
       "      <td>No</td>\n",
       "      <td>No</td>\n",
       "      <td>26990</td>\n",
       "      <td>3 stars</td>\n",
       "      <td>0</td>\n",
       "      <td>0</td>\n",
       "    </tr>\n",
       "  </tbody>\n",
       "</table>\n",
       "</div>"
      ],
      "text/plain": [
       "    brand processor_brand processor_name processor_gnrtn ram_gb ram_type  \\\n",
       "0    ASUS           Intel        Core i3            10th   4 GB     DDR4   \n",
       "1  Lenovo           Intel        Core i3            10th   4 GB     DDR4   \n",
       "2  Lenovo           Intel        Core i3            10th   4 GB     DDR4   \n",
       "3    ASUS           Intel        Core i5            10th   8 GB     DDR4   \n",
       "4    ASUS           Intel   Celeron Dual   Not Available   4 GB     DDR4   \n",
       "\n",
       "      ssd      hdd       os  os_bit graphic_card_gb  weight     warranty  \\\n",
       "0    0 GB  1024 GB  Windows  64-bit            0 GB  Casual  No warranty   \n",
       "1    0 GB  1024 GB  Windows  64-bit            0 GB  Casual  No warranty   \n",
       "2    0 GB  1024 GB  Windows  64-bit            0 GB  Casual  No warranty   \n",
       "3  512 GB     0 GB  Windows  32-bit            2 GB  Casual  No warranty   \n",
       "4    0 GB   512 GB  Windows  64-bit            0 GB  Casual  No warranty   \n",
       "\n",
       "  Touchscreen msoffice  Price   rating  Number of Ratings  Number of Reviews  \n",
       "0          No       No  34649  2 stars                  3                  0  \n",
       "1          No       No  38999  3 stars                 65                  5  \n",
       "2          No       No  39999  3 stars                  8                  1  \n",
       "3          No       No  69990  3 stars                  0                  0  \n",
       "4          No       No  26990  3 stars                  0                  0  "
      ]
     },
     "execution_count": 7,
     "metadata": {},
     "output_type": "execute_result"
    }
   ],
   "source": [
    "df.head()"
   ]
  },
  {
   "cell_type": "code",
   "execution_count": 8,
   "id": "fd9f62b2-44ec-4ba5-b4cb-54d0d7b8786a",
   "metadata": {},
   "outputs": [
    {
     "name": "stdout",
     "output_type": "stream",
     "text": [
      "<class 'pandas.core.frame.DataFrame'>\n",
      "RangeIndex: 823 entries, 0 to 822\n",
      "Data columns (total 19 columns):\n",
      " #   Column             Non-Null Count  Dtype \n",
      "---  ------             --------------  ----- \n",
      " 0   brand              823 non-null    object\n",
      " 1   processor_brand    823 non-null    object\n",
      " 2   processor_name     823 non-null    object\n",
      " 3   processor_gnrtn    823 non-null    object\n",
      " 4   ram_gb             823 non-null    object\n",
      " 5   ram_type           823 non-null    object\n",
      " 6   ssd                823 non-null    object\n",
      " 7   hdd                823 non-null    object\n",
      " 8   os                 823 non-null    object\n",
      " 9   os_bit             823 non-null    object\n",
      " 10  graphic_card_gb    823 non-null    object\n",
      " 11  weight             823 non-null    object\n",
      " 12  warranty           823 non-null    object\n",
      " 13  Touchscreen        823 non-null    object\n",
      " 14  msoffice           823 non-null    object\n",
      " 15  Price              823 non-null    int64 \n",
      " 16  rating             823 non-null    object\n",
      " 17  Number of Ratings  823 non-null    int64 \n",
      " 18  Number of Reviews  823 non-null    int64 \n",
      "dtypes: int64(3), object(16)\n",
      "memory usage: 122.3+ KB\n"
     ]
    }
   ],
   "source": [
    "df.info()"
   ]
  },
  {
   "cell_type": "code",
   "execution_count": 9,
   "id": "dfdb5a96-04ff-409d-8f4b-bfb9df84b174",
   "metadata": {},
   "outputs": [
    {
     "data": {
      "text/plain": [
       "brand                0\n",
       "processor_brand      0\n",
       "processor_name       0\n",
       "processor_gnrtn      0\n",
       "ram_gb               0\n",
       "ram_type             0\n",
       "ssd                  0\n",
       "hdd                  0\n",
       "os                   0\n",
       "os_bit               0\n",
       "graphic_card_gb      0\n",
       "weight               0\n",
       "warranty             0\n",
       "Touchscreen          0\n",
       "msoffice             0\n",
       "Price                0\n",
       "rating               0\n",
       "Number of Ratings    0\n",
       "Number of Reviews    0\n",
       "dtype: int64"
      ]
     },
     "execution_count": 9,
     "metadata": {},
     "output_type": "execute_result"
    }
   ],
   "source": [
    "df.isna().sum()"
   ]
  },
  {
   "cell_type": "markdown",
   "id": "3bccca55-1db2-4b9b-b201-ffc5ea8d8a25",
   "metadata": {},
   "source": [
    "# Exploritory Data Visualisation"
   ]
  },
  {
   "cell_type": "code",
   "execution_count": 10,
   "id": "7c881e58-8ca6-48b1-b4cb-44cc1f8626e1",
   "metadata": {},
   "outputs": [
    {
     "data": {
      "image/png": "[encoded data removed]",
      "text/plain": [
       "<Figure size 640x480 with 1 Axes>"
      ]
     },
     "metadata": {},
     "output_type": "display_data"
    }
   ],
   "source": [
    "plt.hist(\"brand\", data=df)    \n",
    "plt.tight_layout()"
   ]
  },
  {
   "cell_type": "markdown",
   "id": "fd738650-1a06-44b0-b978-3da0f050eb5a",
   "metadata": {},
   "source": [
    "- Asus seems to have the highest percentage of market share with Lenovo, Hp and Dell being next and close\n",
    "- Apple's market share is surprisingly low"
   ]
  },
  {
   "cell_type": "code",
   "execution_count": 11,
   "id": "93757fe2-efe4-4726-86f4-bee8722154bf",
   "metadata": {},
   "outputs": [
    {
     "data": {
      "image/png": "[encoded data removed]",
      "text/plain": [
       "<Figure size 640x480 with 1 Axes>"
      ]
     },
     "metadata": {},
     "output_type": "display_data"
    }
   ],
   "source": [
    "plt.hist(\"ram_gb\", data=df)    \n",
    "plt.tight_layout()"
   ]
  },
  {
   "cell_type": "markdown",
   "id": "92962d91-aefe-4b1f-bfcb-7a70315a792f",
   "metadata": {},
   "source": [
    "- 8GB ram devices are easily the most popular but 4GB and 16GB devices have their place\n",
    "- 32GB devices are extremely rare and seem to be an enthusiast pick"
   ]
  },
  {
   "cell_type": "code",
   "execution_count": 12,
   "id": "2d7799d3-65b3-42a6-853b-e066a0e8c4ac",
   "metadata": {},
   "outputs": [
    {
     "data": {
      "image/png": "[encoded data removed]",
      "text/plain": [
       "<Figure size 640x480 with 1 Axes>"
      ]
     },
     "metadata": {},
     "output_type": "display_data"
    }
   ],
   "source": [
    "plt.hist(\"ram_type\", data=df)    \n",
    "plt.tight_layout()"
   ]
  },
  {
   "cell_type": "markdown",
   "id": "29858dfb-c66f-4499-b543-95970deb9c75",
   "metadata": {},
   "source": [
    "- almost all devices use DDR4, would be interesting to find out the reason for lack of variety"
   ]
  },
  {
   "cell_type": "code",
   "execution_count": 13,
   "id": "aa70feb0-f3ac-4e8c-b319-c4263f2015cb",
   "metadata": {},
   "outputs": [
    {
     "data": {
      "image/png": "[encoded data removed]",
      "text/plain": [
       "<Figure size 640x480 with 1 Axes>"
      ]
     },
     "metadata": {},
     "output_type": "display_data"
    }
   ],
   "source": [
    "plt.hist(\"os_bit\", data=df)    \n",
    "plt.tight_layout()"
   ]
  },
  {
   "cell_type": "markdown",
   "id": "dbb70382-9aa4-4dfc-8b71-0b1562a5b8d8",
   "metadata": {},
   "source": [
    "- as expected, the majority of laptops use a 64-bit cpu architecture"
   ]
  },
  {
   "cell_type": "code",
   "execution_count": 14,
   "id": "c8cc5828-5524-4c34-ae8a-54259826b2ea",
   "metadata": {},
   "outputs": [
    {
     "data": {
      "image/png": "[encoded data removed]",
      "text/plain": [
       "<Figure size 640x480 with 1 Axes>"
      ]
     },
     "metadata": {},
     "output_type": "display_data"
    }
   ],
   "source": [
    "plt.hist(\"processor_name\", data=df[df[\"processor_brand\"] == \"Intel\"])    \n",
    "plt.tight_layout()"
   ]
  },
  {
   "cell_type": "markdown",
   "id": "464c7ba3-076a-4906-b749-27d1cf56d47b",
   "metadata": {},
   "source": [
    "- among intel devices, the Core i5 seems to be the standard choice. it would seem most people do not want to go for the lowest option i3\n",
    "- Core i7 definetly seems quite popular and doesn't seem as much for enthusiasts as I expected\n",
    "- Core i9 devices are almost non-existent, they definitely are the for enthusiasts"
   ]
  },
  {
   "cell_type": "code",
   "execution_count": 15,
   "id": "6a459ad4-329e-4868-8897-61cc14db32f8",
   "metadata": {},
   "outputs": [
    {
     "data": {
      "image/png": "[encoded data removed]",
      "text/plain": [
       "<Figure size 640x480 with 1 Axes>"
      ]
     },
     "metadata": {},
     "output_type": "display_data"
    }
   ],
   "source": [
    "plt.hist(\"graphic_card_gb\", data=df)    \n",
    "plt.tight_layout()"
   ]
  },
  {
   "cell_type": "markdown",
   "id": "6e8720e5-6582-4b68-9ae1-670780721746",
   "metadata": {},
   "source": [
    "- Most devices simple do not have a graphics-card as GPU use for most people is minimal\n",
    "- Among the devices that do have one, a similar pattern of the second being the most popular and then a steady drop off seen with the intel Core i series and Ram GB can be seen. "
   ]
  },
  {
   "cell_type": "code",
   "execution_count": 16,
   "id": "d5a858b6-de03-4f49-9302-dc54f76bcca6",
   "metadata": {},
   "outputs": [
    {
     "data": {
      "image/png": "[encoded data removed]",
      "text/plain": [
       "<Figure size 640x480 with 1 Axes>"
      ]
     },
     "metadata": {},
     "output_type": "display_data"
    }
   ],
   "source": [
    "plt.hist(\"graphic_card_gb\", data=df[df[\"weight\"] == \"Gaming\"])    \n",
    "plt.tight_layout()"
   ]
  },
  {
   "cell_type": "markdown",
   "id": "74234161-77af-4ad8-9248-da8bcf44103e",
   "metadata": {},
   "source": [
    "- The graphics card story is definitely different with gaming laptops, with hardly any having no graphics card\n",
    "- 4GB graphics cards seem to be the standard\n",
    "- Interestingly enough, there are no laptops with 2GB graphics cards despite there being some with graphics card at all.\n",
    "- even more bizzare is that none of the 8GB ram graphics cards belong to gaming laptops"
   ]
  },
  {
   "cell_type": "markdown",
   "id": "a2b4b248-bf43-4e60-9bc6-f75326a5d3d6",
   "metadata": {},
   "source": [
    "# Model Selection"
   ]
  },
  {
   "cell_type": "code",
   "execution_count": 17,
   "id": "b7c53c79-3fca-4a4b-9b66-6ea22dc45ee4",
   "metadata": {},
   "outputs": [],
   "source": [
    "X = df.iloc[:, :15]\n",
    "y = df.iloc[:, 15]"
   ]
  },
  {
   "cell_type": "code",
   "execution_count": 18,
   "id": "44b0c30c-52aa-49e6-8333-16a6b8bfd305",
   "metadata": {},
   "outputs": [],
   "source": [
    "X_train, X_test, y_train, y_test = train_test_split(X, y, test_size=0.25, random_state=42)"
   ]
  },
  {
   "cell_type": "code",
   "execution_count": 19,
   "id": "668d9d7f-bdbc-4f8b-8b8c-4d6f0c937992",
   "metadata": {},
   "outputs": [
    {
     "name": "stdout",
     "output_type": "stream",
     "text": [
      "Result for LinearRegression() \n",
      "\n",
      "Mean Absolute Errors\n",
      "train: 11961.293724484376 test: 14536.38118941214\n",
      "Root Mean Squared Errors\n",
      "train: 18722.62245983773 test: 24645.8059351848\n",
      "R-squared\n",
      "train: 0.8285964566053627 test: 0.6945264742951867\n",
      "==================================================\n",
      "Result for Lasso(max_iter=10000) \n",
      "\n",
      "Mean Absolute Errors\n",
      "train: 11962.708894998907 test: 14486.280954595035\n",
      "Root Mean Squared Errors\n",
      "train: 18723.075002305977 test: 24562.04809496744\n",
      "R-squared\n",
      "train: 0.8285881705524664 test: 0.6965992266841199\n",
      "==================================================\n",
      "Result for Ridge() \n",
      "\n",
      "Mean Absolute Errors\n",
      "train: 12574.040474984346 test: 13836.626776508438\n",
      "Root Mean Squared Errors\n",
      "train: 20159.43512338055 test: 23088.29113131236\n",
      "R-squared\n",
      "train: 0.8012792792576396 test: 0.731915868074654\n",
      "==================================================\n",
      "Result for SVR(tol=0.01) \n",
      "\n",
      "Mean Absolute Errors\n",
      "train: 29562.247957526495 test: 29827.431263094968\n",
      "Root Mean Squared Errors\n",
      "train: 46842.794673130746 test: 46817.65558055983\n",
      "R-squared\n",
      "train: -0.07293158678125855 test: -0.10231788357746896\n",
      "==================================================\n",
      "Result for KNeighborsRegressor() \n",
      "\n",
      "Mean Absolute Errors\n",
      "train: 10310.096272285251 test: 14532.168932038834\n",
      "Root Mean Squared Errors\n",
      "train: 20298.009510810167 test: 26730.527438285462\n",
      "R-squared\n",
      "train: 0.7985379080194208 test: 0.6406624644480312\n",
      "==================================================\n",
      "Result for DecisionTreeRegressor() \n",
      "\n",
      "Mean Absolute Errors\n",
      "train: 1799.284981091302 test: 14410.666262135923\n",
      "Root Mean Squared Errors\n",
      "train: 7486.545940412657 test: 25751.228001413932\n",
      "R-squared\n",
      "train: 0.9725937620631973 test: 0.666509538463081\n",
      "==================================================\n",
      "Result for RandomForestRegressor() \n",
      "\n",
      "Mean Absolute Errors\n",
      "train: 5493.446833554074 test: 13857.224913343665\n",
      "Root Mean Squared Errors\n",
      "train: 11686.774252610905 test: 24746.826700155725\n",
      "R-squared\n",
      "train: 0.9332154896480279 test: 0.6920171294033814\n",
      "==================================================\n",
      "Result for BaggingRegressor() \n",
      "\n",
      "Mean Absolute Errors\n",
      "train: 5928.49104203648 test: 14132.490252735397\n",
      "Root Mean Squared Errors\n",
      "train: 14551.414741233903 test: 26022.793492470035\n",
      "R-squared\n",
      "train: 0.8964626907785855 test: 0.659438649624656\n",
      "==================================================\n",
      "Result for ExtraTreesRegressor() \n",
      "\n",
      "Mean Absolute Errors\n",
      "train: 1799.2849810913015 test: 14087.258074433656\n",
      "Root Mean Squared Errors\n",
      "train: 7486.545940412657 test: 24551.68872640432\n",
      "R-squared\n",
      "train: 0.9725937620631973 test: 0.696855099289819\n",
      "==================================================\n",
      "Result for ElasticNet() \n",
      "\n",
      "Mean Absolute Errors\n",
      "train: 22949.884856461547 test: 22303.91478050767\n",
      "Root Mean Squared Errors\n",
      "train: 36033.66427629978 test: 35397.3192575011\n",
      "R-squared\n",
      "train: 0.3651029752650642 test: 0.36987273096281303\n",
      "==================================================\n",
      "Result for AdaBoostRegressor() \n",
      "\n",
      "Mean Absolute Errors\n",
      "train: 22514.367977220445 test: 25113.799701292566\n",
      "Root Mean Squared Errors\n",
      "train: 28314.04412229943 test: 33547.61337567108\n",
      "R-squared\n",
      "train: 0.6079962288704281 test: 0.4340073556619468\n",
      "==================================================\n",
      "Result for GradientBoostingRegressor() \n",
      "\n",
      "Mean Absolute Errors\n",
      "train: 9382.816835834106 test: 13252.73872154084\n",
      "Root Mean Squared Errors\n",
      "train: 14452.780150437775 test: 24416.626874846355\n",
      "R-squared\n",
      "train: 0.8978615580130771 test: 0.700181199986632\n",
      "==================================================\n"
     ]
    }
   ],
   "source": [
    "model_list = [LinearRegression(), Lasso(max_iter=10000), Ridge(), SVR(tol=0.01), KNeighborsRegressor(), DecisionTreeRegressor(), RandomForestRegressor(),\n",
    "              BaggingRegressor(), ExtraTreesRegressor(), ElasticNet(), AdaBoostRegressor(), GradientBoostingRegressor()]\n",
    "cat_columns = ['brand', 'processor_brand', 'processor_name', 'processor_gnrtn',\n",
    "       'ram_gb', 'ram_type', 'ssd', 'hdd', 'os', 'os_bit', 'graphic_card_gb',\n",
    "       'weight', 'warranty', 'Touchscreen', 'msoffice']\n",
    "\n",
    "for model in model_list:\n",
    "    cat_transformer = OneHotEncoder(drop=\"first\")\n",
    "    preprocessor = ColumnTransformer(transformers=[(\"cat\", cat_transformer, cat_columns)])\n",
    "    pipeline = Pipeline(steps=[(\"preprocessor\", preprocessor), (\"model\", model)])\n",
    "    pipeline.fit(X_train, y_train)\n",
    "    \n",
    "    print(f\"Result for {model}\", \"\\n\")\n",
    "    y_train_pred = pipeline.predict(X_train)\n",
    "    y_test_pred = pipeline.predict(X_test)\n",
    "    \n",
    "    mean_absolute_error_train = mean_absolute_error(y_train, y_train_pred)\n",
    "    mean_absolute_error_test = mean_absolute_error(y_test, y_test_pred)\n",
    "    \n",
    "    root_mean_square_error_train = mean_squared_error(y_train, y_train_pred, squared=False)\n",
    "    root_mean_square_error_test= mean_squared_error(y_test, y_test_pred, squared=False)\n",
    "    \n",
    "    r2_train = r2_score(y_train, y_train_pred) \n",
    "    r2_test = r2_score(y_test, y_test_pred) \n",
    "\n",
    "    print(\"Mean Absolute Errors\")\n",
    "    print(f\"train: {mean_absolute_error_train} test: {mean_absolute_error_test}\")\n",
    "\n",
    "    print(\"Root Mean Squared Errors\")\n",
    "    print(f\"train: {root_mean_square_error_train} test: {root_mean_square_error_test}\")\n",
    "\n",
    "    print(\"R-squared\")\n",
    "    print(f\"train: {r2_train} test: {r2_test}\")\n",
    "    \n",
    "    print(\"=\"*50)\n",
    "    \n",
    "    \n",
    "    \n"
   ]
  },
  {
   "cell_type": "markdown",
   "id": "4f2619b9-be52-4421-8db9-e38d57d3a3e4",
   "metadata": {},
   "source": [
    "- The linear models seem to have the clear edge, with the tree models being able to get slightly worse results but overfitting to much to believe they could be improved by a Grid search. My guess for why this is the case is the very aggresive one-hot encoding used on the data set as it had no numerical features.\n",
    "- The plain Decision tree Outperforms the Random Forest ensemble which probably isn't a good sign\n",
    "- SVR is completely unuseable with this dataset\n",
    "- Of the linear models, the Ridge seems to be the most promising as it has simultaneously the highest test R squared score and lowest training R squared score of the bunch showing high accuracy with minimal overfitting.\n",
    "- For further investigation with Grid search, the following models will be chosen:\n",
    "- Ridge because it's clearly the best\n",
    "- Lasso because it's sort of promising. LinearRegression will be dropped because it seems to behave identically to the Lasso"
   ]
  },
  {
   "cell_type": "code",
   "execution_count": 20,
   "id": "9a763785-557c-4540-9aba-894da8cea4a0",
   "metadata": {},
   "outputs": [
    {
     "name": "stderr",
     "output_type": "stream",
     "text": [
      "C:\\Users\\USER\\AppData\\Roaming\\Python\\Python310\\site-packages\\sklearn\\linear_model\\_coordinate_descent.py:589: ConvergenceWarning: Objective did not converge. You might want to increase the number of iterations. Duality gap: 53587498325.883255, tolerance: 10671080194.177158\n",
      "  model = cd_fast.sparse_enet_coordinate_descent(\n",
      "C:\\Users\\USER\\AppData\\Roaming\\Python\\Python310\\site-packages\\sklearn\\linear_model\\_coordinate_descent.py:589: ConvergenceWarning: Objective did not converge. You might want to increase the number of iterations. Duality gap: 48953749138.52208, tolerance: 10532003995.248924\n",
      "  model = cd_fast.sparse_enet_coordinate_descent(\n",
      "C:\\Users\\USER\\AppData\\Roaming\\Python\\Python310\\site-packages\\sklearn\\linear_model\\_coordinate_descent.py:589: ConvergenceWarning: Objective did not converge. You might want to increase the number of iterations. Duality gap: 46511915580.12914, tolerance: 9978887145.229494\n",
      "  model = cd_fast.sparse_enet_coordinate_descent(\n",
      "C:\\Users\\USER\\AppData\\Roaming\\Python\\Python310\\site-packages\\sklearn\\linear_model\\_coordinate_descent.py:589: ConvergenceWarning: Objective did not converge. You might want to increase the number of iterations. Duality gap: 31331166926.393684, tolerance: 8430331202.868342\n",
      "  model = cd_fast.sparse_enet_coordinate_descent(\n",
      "C:\\Users\\USER\\AppData\\Roaming\\Python\\Python310\\site-packages\\sklearn\\linear_model\\_coordinate_descent.py:589: ConvergenceWarning: Objective did not converge. You might want to increase the number of iterations. Duality gap: 55879898983.55328, tolerance: 10816915776.304392\n",
      "  model = cd_fast.sparse_enet_coordinate_descent(\n",
      "C:\\Users\\USER\\AppData\\Roaming\\Python\\Python310\\site-packages\\sklearn\\linear_model\\_coordinate_descent.py:589: ConvergenceWarning: Objective did not converge. You might want to increase the number of iterations. Duality gap: 49817896336.220856, tolerance: 10671080194.177158\n",
      "  model = cd_fast.sparse_enet_coordinate_descent(\n",
      "C:\\Users\\USER\\AppData\\Roaming\\Python\\Python310\\site-packages\\sklearn\\linear_model\\_coordinate_descent.py:589: ConvergenceWarning: Objective did not converge. You might want to increase the number of iterations. Duality gap: 45592779767.155174, tolerance: 10532003995.248924\n",
      "  model = cd_fast.sparse_enet_coordinate_descent(\n",
      "C:\\Users\\USER\\AppData\\Roaming\\Python\\Python310\\site-packages\\sklearn\\linear_model\\_coordinate_descent.py:589: ConvergenceWarning: Objective did not converge. You might want to increase the number of iterations. Duality gap: 44075335371.571785, tolerance: 9978887145.229494\n",
      "  model = cd_fast.sparse_enet_coordinate_descent(\n",
      "C:\\Users\\USER\\AppData\\Roaming\\Python\\Python310\\site-packages\\sklearn\\linear_model\\_coordinate_descent.py:589: ConvergenceWarning: Objective did not converge. You might want to increase the number of iterations. Duality gap: 45670708632.63727, tolerance: 8430331202.868342\n",
      "  model = cd_fast.sparse_enet_coordinate_descent(\n",
      "C:\\Users\\USER\\AppData\\Roaming\\Python\\Python310\\site-packages\\sklearn\\linear_model\\_coordinate_descent.py:589: ConvergenceWarning: Objective did not converge. You might want to increase the number of iterations. Duality gap: 52850770878.794044, tolerance: 10816915776.304392\n",
      "  model = cd_fast.sparse_enet_coordinate_descent(\n"
     ]
    },
    {
     "name": "stdout",
     "output_type": "stream",
     "text": [
      "Lasso(max_iter=10000, tol=0.01)\n",
      "Mean Absolute Errors\n",
      "train: 11962.553578887066 test: 13252.73872154084\n",
      "Root Mean Squared Errors\n",
      "train: 18723.003599782423 test: 24566.716413704744\n",
      "R-squared\n",
      "train: 0.8285894779460276 test: 0.696483885641801\n",
      "1.0\n",
      "0.01\n",
      "Ridge()\n",
      "Mean Absolute Errors\n",
      "train: 12574.040474984346 test: 13252.73872154084\n",
      "Root Mean Squared Errors\n",
      "train: 20159.43512338055 test: 23088.29113131236\n",
      "R-squared\n",
      "train: 0.8012792792576396 test: 0.731915868074654\n",
      "1.0\n",
      "0.0001\n"
     ]
    }
   ],
   "source": [
    "second_gen_models = [Lasso(max_iter=10000,tol=0.01), Ridge()]\n",
    "param_grid = {\"alpha\": np.array([1.0, 0.1, 0.01,])}\n",
    "for model in second_gen_models:\n",
    "    cat_transformer = OneHotEncoder(drop=\"first\")\n",
    "    preprocessor = ColumnTransformer(transformers=[(\"cat\", cat_transformer, cat_columns)])\n",
    "    new_X_train = preprocessor.fit_transform(X_train)\n",
    "    new_X_test = preprocessor.transform(X_test)\n",
    "    \n",
    "    grid = GridSearchCV(model, param_grid=param_grid)\n",
    "    grid.fit(new_X_train, y_train)\n",
    "    print(model)\n",
    "    \n",
    "    new_y_train_pred = grid.best_estimator_.predict(new_X_train)\n",
    "    new_y_test_pred = grid.best_estimator_.predict(new_X_test)\n",
    "    \n",
    "    mean_absolute_error_train = mean_absolute_error(y_train, new_y_train_pred)\n",
    "    mean_absolute_error_test = mean_absolute_error(y_test, y_test_pred)\n",
    "    \n",
    "    root_mean_square_error_train = mean_squared_error(y_train, new_y_train_pred, squared=False)\n",
    "    root_mean_square_error_test= mean_squared_error(y_test, new_y_test_pred, squared=False)\n",
    "    \n",
    "    r2_train = r2_score(y_train, new_y_train_pred) \n",
    "    r2_test = r2_score(y_test, new_y_test_pred)\n",
    "\n",
    "    print(\"Mean Absolute Errors\")\n",
    "    print(f\"train: {mean_absolute_error_train} test: {mean_absolute_error_test}\")\n",
    "\n",
    "    print(\"Root Mean Squared Errors\")\n",
    "    print(f\"train: {root_mean_square_error_train} test: {root_mean_square_error_test}\")\n",
    "\n",
    "    print(\"R-squared\")\n",
    "    print(f\"train: {r2_train} test: {r2_test}\")\n",
    "    print(grid.best_estimator_.alpha)\n",
    "    print(grid.best_estimator_.tol)"
   ]
  },
  {
   "cell_type": "markdown",
   "id": "8e349819-7169-4abb-8687-5a760b296c3b",
   "metadata": {},
   "source": [
    "- couldn't for the life of me get Lasso to converge for some reason and the Grid search didnt seem to do much for the Ridge anyways"
   ]
  },
  {
   "cell_type": "code",
   "execution_count": null,
   "id": "e8a4da20-025b-4a39-aeb0-3d76d3dee3dd",
   "metadata": {},
   "outputs": [],
   "source": []
  }
 ],
 "metadata": {
  "kernelspec": {
   "display_name": "Python 3 (ipykernel)",
   "language": "python",
   "name": "python3"
  },
  "language_info": {
   "codemirror_mode": {
    "name": "ipython",
    "version": 3
   },
   "file_extension": ".py",
   "mimetype": "text/x-python",
   "name": "python",
   "nbconvert_exporter": "python",
   "pygments_lexer": "ipython3",
   "version": "3.10.4"
  }
 },
 "nbformat": 4,
 "nbformat_minor": 5
}
